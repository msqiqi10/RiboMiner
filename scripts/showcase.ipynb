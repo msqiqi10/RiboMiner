{
 "cells": [
  {
   "cell_type": "code",
   "execution_count": 1,
   "metadata": {},
   "outputs": [],
   "source": [
    "cwd = \"/home/zzz0054/chen_data\"\n",
    "reads = [\"C0RPF1aux_S3_R1_001\", \"C0RPF2aux_S4_R1_001\", \"C0RPF3aux_S9_R1_001\"]\n",
    "subF = \"Alonso\""
   ]
  },
  {
   "cell_type": "code",
   "execution_count": 2,
   "metadata": {},
   "outputs": [],
   "source": [
    "!mkdir -p {cwd}/trimmed_out/\n",
    "!mkdir -p {cwd}/before_trim/\n",
    "!mkdir -p {cwd}/quality_filtered\n",
    "!mkdir -p {cwd}/after_trim/\n",
    "!mkdir -p  {cwd}/aligned"
   ]
  },
  {
   "cell_type": "code",
   "execution_count": 3,
   "metadata": {},
   "outputs": [
    {
     "name": "stdout",
     "output_type": "stream",
     "text": [
      "[        8=--] 00:02:36    16,500,000 reads @   9.5 µs/read;   6.29 M reads/minute"
     ]
    }
   ],
   "source": [
    "for read in reads:\n",
    "    !cutadapt -m 15 -M 35 --match-read-wildcards -a AGATCGGAAGAGCACACGTCTGAACTCCAGTCA -o {cwd}/trimmed_out/{read}.trimmed.fastq {cwd}/{subF}/{read}.fastq > {cwd}/trimmed_out/{read}_trimmed.log\n",
    "    \n",
    "    !fastqc {cwd}/{subF}/{read}.fastq -o {cwd}/before_trim/ -a {cwd}/adapter.txt\n",
    "    \n",
    "    !fastq_quality_filter -Q33 -v -q 25 -p 75 -i {cwd}/trimmed_out/{read}.trimmed.fastq -o {cwd}/quality_filtered/{read}.trimmed.Qfilter.fastq > {cwd}/quality_filtered/{read}.Qfilter.log\n",
    "    \n",
    "    !fastqc {cwd}/quality_filtered/{read}.trimmed.Qfilter.fastq -o {cwd}/after_trim/ -a {cwd}/adapter.txt\n",
    "    \n",
    "    !bowtie -n 2 -y -a --norc --best --strata -S -p 16 -l 25 --un={cwd}/aligned/noncontam_{read}.fastq {cwd}/bowtie_index/bowtie_index -q {cwd}/quality_filtered/{read}.trimmed.Qfilter.fastq {cwd}/aligned/{read}.alin\n",
    "    \n",
    "    !STAR --runThreadN 8 --outFilterType Normal --outWigType wiggle --outWigStrand Stranded --outWigNorm RPM --alignEndsType EndToEnd --outFilterMismatchNmax 1 --outFilterMultimapNmax 1 --genomeDir {cwd}/STAR_genome_index/ --readFilesIn {cwd}/aligned/noncontam_{read}.fastq --outFileNamePrefix  {cwd}/star_out/{read}/ --outSAMtype BAM SortedByCoordinate --quantMode TranscriptomeSAM GeneCounts --outSAMattributes All\n",
    "    \n",
    "    !samtools sort -T {cwd}/star_out/{read}/Aligned.toTranscriptome.out.sorted -o {cwd}/star_out/{read}/Aligned.toTranscriptome.out.sorted.bam {cwd}/star_out/{read}/Aligned.toTranscriptome.out.bam\n",
    "    !samtools index {cwd}/star_out/{read}/Aligned.toTranscriptome.out.sorted.bam ## mapped to transcriptome\n",
    "    !samtools index {cwd}/star_out/{read}/Aligned.sortedByCoord.out.bam ## mapped to genome\n",
    "    \n",
    "    !mkdir {cwd}/metaplots/{read}\n",
    "    !metaplots -a {cwd}/ref/annot -r {cwd}/star_out/{read}/Aligned.toTranscriptome.out.sorted.bam -o {cwd}/metaplots/{read}/"
   ]
  }
 ],
 "metadata": {
  "kernelspec": {
   "display_name": "ribo4",
   "language": "python",
   "name": "python3"
  },
  "language_info": {
   "codemirror_mode": {
    "name": "ipython",
    "version": 3
   },
   "file_extension": ".py",
   "mimetype": "text/x-python",
   "name": "python",
   "nbconvert_exporter": "python",
   "pygments_lexer": "ipython3",
   "version": "3.8.17"
  }
 },
 "nbformat": 4,
 "nbformat_minor": 2
}
