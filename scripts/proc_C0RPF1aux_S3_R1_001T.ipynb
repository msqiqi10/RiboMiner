{
 "cells": [
  {
   "cell_type": "code",
   "execution_count": 1,
   "metadata": {},
   "outputs": [],
   "source": [
    "cwd = \"/home/zzz0054/chen_data\"\n",
    "reads = [\"C0RPF1aux_S3_R1_001\"]\n",
    "subF = \"Alonso\""
   ]
  },
  {
   "cell_type": "code",
   "execution_count": 2,
   "metadata": {},
   "outputs": [],
   "source": [
    "!mkdir -p {cwd}/trimmed_out/\n",
    "!mkdir -p {cwd}/before_trim/\n",
    "!mkdir -p {cwd}/quality_filtered\n",
    "!mkdir -p {cwd}/after_trim/\n",
    "!mkdir -p  {cwd}/aligned"
   ]
  },
  {
   "cell_type": "code",
   "execution_count": 3,
   "metadata": {},
   "outputs": [
    {
     "name": "stdout",
     "output_type": "stream",
     "text": [
      "Done           00:04:44    26,599,133 reads @  10.7 µs/read;   5.61 M reads/minute\n"
     ]
    }
   ],
   "source": [
    "!mkdir -p {cwd}/trimmed_out/\n",
    "for read in reads:\n",
    "    # -a AGATCGGAAGAGCACACGTCTGAACTCCAGTCA -e 0.2 -m 80 -M 180\n",
    "    !cutadapt -a AGATCGGAAGAGCACACGTCTGAACTCCAGTCA -e 0.2 -m 15 -M 60 -o {cwd}/trimmed_out/{read}.trimmed.fastq {cwd}/{subF}/{read}.fastq > {cwd}/trimmed_out/{read}_trimmed.log"
   ]
  },
  {
   "cell_type": "code",
   "execution_count": null,
   "metadata": {},
   "outputs": [
    {
     "name": "stdout",
     "output_type": "stream",
     "text": [
      "mkdir: cannot create directory ‘/home/zzz0054/chen_data/before_trim/’: File exists\n",
      "null\n",
      "Started analysis of C0RPF1aux_S3_R1_001.fastq\n",
      "Approx 5% complete for C0RPF1aux_S3_R1_001.fastq\n",
      "Approx 10% complete for C0RPF1aux_S3_R1_001.fastq\n",
      "Approx 15% complete for C0RPF1aux_S3_R1_001.fastq\n",
      "Approx 20% complete for C0RPF1aux_S3_R1_001.fastq\n",
      "Approx 25% complete for C0RPF1aux_S3_R1_001.fastq\n",
      "Approx 30% complete for C0RPF1aux_S3_R1_001.fastq\n",
      "Approx 35% complete for C0RPF1aux_S3_R1_001.fastq\n",
      "Approx 40% complete for C0RPF1aux_S3_R1_001.fastq\n",
      "Approx 45% complete for C0RPF1aux_S3_R1_001.fastq\n",
      "Approx 50% complete for C0RPF1aux_S3_R1_001.fastq\n",
      "Approx 55% complete for C0RPF1aux_S3_R1_001.fastq\n",
      "Approx 60% complete for C0RPF1aux_S3_R1_001.fastq\n",
      "Approx 65% complete for C0RPF1aux_S3_R1_001.fastq\n",
      "Approx 70% complete for C0RPF1aux_S3_R1_001.fastq\n",
      "Approx 75% complete for C0RPF1aux_S3_R1_001.fastq\n",
      "Approx 80% complete for C0RPF1aux_S3_R1_001.fastq\n",
      "Approx 85% complete for C0RPF1aux_S3_R1_001.fastq\n",
      "Approx 90% complete for C0RPF1aux_S3_R1_001.fastq\n",
      "Approx 95% complete for C0RPF1aux_S3_R1_001.fastq\n",
      "Analysis complete for C0RPF1aux_S3_R1_001.fastq\n",
      "null\n",
      "Started analysis of C0RPF2aux_S4_R1_001.fastq\n",
      "Approx 5% complete for C0RPF2aux_S4_R1_001.fastq\n",
      "Approx 10% complete for C0RPF2aux_S4_R1_001.fastq\n",
      "Approx 15% complete for C0RPF2aux_S4_R1_001.fastq\n",
      "Approx 20% complete for C0RPF2aux_S4_R1_001.fastq\n",
      "Approx 25% complete for C0RPF2aux_S4_R1_001.fastq\n",
      "Approx 30% complete for C0RPF2aux_S4_R1_001.fastq\n",
      "Approx 35% complete for C0RPF2aux_S4_R1_001.fastq\n",
      "Approx 40% complete for C0RPF2aux_S4_R1_001.fastq\n",
      "Approx 45% complete for C0RPF2aux_S4_R1_001.fastq\n",
      "Approx 50% complete for C0RPF2aux_S4_R1_001.fastq\n",
      "Approx 55% complete for C0RPF2aux_S4_R1_001.fastq\n",
      "Approx 60% complete for C0RPF2aux_S4_R1_001.fastq\n",
      "Approx 65% complete for C0RPF2aux_S4_R1_001.fastq\n",
      "Approx 70% complete for C0RPF2aux_S4_R1_001.fastq\n",
      "Approx 75% complete for C0RPF2aux_S4_R1_001.fastq\n",
      "Approx 80% complete for C0RPF2aux_S4_R1_001.fastq\n",
      "Approx 85% complete for C0RPF2aux_S4_R1_001.fastq\n",
      "Approx 90% complete for C0RPF2aux_S4_R1_001.fastq\n",
      "Approx 95% complete for C0RPF2aux_S4_R1_001.fastq\n",
      "Analysis complete for C0RPF2aux_S4_R1_001.fastq\n",
      "null\n",
      "Started analysis of C0RPF3aux_S9_R1_001.fastq\n",
      "Approx 5% complete for C0RPF3aux_S9_R1_001.fastq\n",
      "Approx 10% complete for C0RPF3aux_S9_R1_001.fastq\n",
      "Approx 15% complete for C0RPF3aux_S9_R1_001.fastq\n",
      "Approx 20% complete for C0RPF3aux_S9_R1_001.fastq\n",
      "Approx 25% complete for C0RPF3aux_S9_R1_001.fastq\n",
      "Approx 30% complete for C0RPF3aux_S9_R1_001.fastq\n",
      "Approx 35% complete for C0RPF3aux_S9_R1_001.fastq\n",
      "Approx 40% complete for C0RPF3aux_S9_R1_001.fastq\n",
      "Approx 45% complete for C0RPF3aux_S9_R1_001.fastq\n",
      "Approx 50% complete for C0RPF3aux_S9_R1_001.fastq\n",
      "Approx 55% complete for C0RPF3aux_S9_R1_001.fastq\n",
      "Approx 60% complete for C0RPF3aux_S9_R1_001.fastq\n",
      "Approx 65% complete for C0RPF3aux_S9_R1_001.fastq\n",
      "Approx 70% complete for C0RPF3aux_S9_R1_001.fastq\n",
      "Approx 75% complete for C0RPF3aux_S9_R1_001.fastq\n",
      "Approx 80% complete for C0RPF3aux_S9_R1_001.fastq\n",
      "Approx 85% complete for C0RPF3aux_S9_R1_001.fastq\n",
      "Approx 90% complete for C0RPF3aux_S9_R1_001.fastq\n",
      "Approx 95% complete for C0RPF3aux_S9_R1_001.fastq\n",
      "Analysis complete for C0RPF3aux_S9_R1_001.fastq\n"
     ]
    }
   ],
   "source": [
    "# quality check\n",
    "!mkdir {cwd}/before_trim/\n",
    "for read in reads:\n",
    "    !fastqc {cwd}/{subF}/{read}.fastq -o {cwd}/before_trim/ -a {cwd}/adapter.txt"
   ]
  },
  {
   "cell_type": "code",
   "execution_count": null,
   "metadata": {},
   "outputs": [],
   "source": [
    "!mkdir -p {cwd}/quality_filtered\n",
    "for read in reads:\n",
    "    !fastq_quality_filter -Q33 -v -q 25 -p 75 -i {cwd}/trimmed_out/{read}.trimmed.fastq -o {cwd}/quality_filtered/{read}.trimmed.Qfilter.fastq > {cwd}/quality_filtered/{read}.Qfilter.log"
   ]
  },
  {
   "cell_type": "code",
   "execution_count": null,
   "metadata": {},
   "outputs": [
    {
     "name": "stdout",
     "output_type": "stream",
     "text": [
      "mkdir: cannot create directory ‘/home/zzz0054/chen_data/after_trim/’: File exists\n",
      "null\n",
      "Started analysis of C0RPF1aux_S3_R1_001.trimmed.Qfilter.fastq\n",
      "Approx 5% complete for C0RPF1aux_S3_R1_001.trimmed.Qfilter.fastq\n",
      "Approx 10% complete for C0RPF1aux_S3_R1_001.trimmed.Qfilter.fastq\n",
      "Approx 15% complete for C0RPF1aux_S3_R1_001.trimmed.Qfilter.fastq\n",
      "Approx 20% complete for C0RPF1aux_S3_R1_001.trimmed.Qfilter.fastq\n",
      "Approx 25% complete for C0RPF1aux_S3_R1_001.trimmed.Qfilter.fastq\n",
      "Approx 30% complete for C0RPF1aux_S3_R1_001.trimmed.Qfilter.fastq\n",
      "Approx 35% complete for C0RPF1aux_S3_R1_001.trimmed.Qfilter.fastq\n",
      "Approx 40% complete for C0RPF1aux_S3_R1_001.trimmed.Qfilter.fastq\n",
      "Approx 45% complete for C0RPF1aux_S3_R1_001.trimmed.Qfilter.fastq\n",
      "Approx 50% complete for C0RPF1aux_S3_R1_001.trimmed.Qfilter.fastq\n",
      "Approx 55% complete for C0RPF1aux_S3_R1_001.trimmed.Qfilter.fastq\n",
      "Approx 60% complete for C0RPF1aux_S3_R1_001.trimmed.Qfilter.fastq\n",
      "Approx 65% complete for C0RPF1aux_S3_R1_001.trimmed.Qfilter.fastq\n",
      "Approx 70% complete for C0RPF1aux_S3_R1_001.trimmed.Qfilter.fastq\n",
      "Approx 75% complete for C0RPF1aux_S3_R1_001.trimmed.Qfilter.fastq\n",
      "Approx 80% complete for C0RPF1aux_S3_R1_001.trimmed.Qfilter.fastq\n",
      "Approx 85% complete for C0RPF1aux_S3_R1_001.trimmed.Qfilter.fastq\n",
      "Approx 90% complete for C0RPF1aux_S3_R1_001.trimmed.Qfilter.fastq\n",
      "Approx 95% complete for C0RPF1aux_S3_R1_001.trimmed.Qfilter.fastq\n",
      "Analysis complete for C0RPF1aux_S3_R1_001.trimmed.Qfilter.fastq\n",
      "null\n",
      "Started analysis of C0RPF2aux_S4_R1_001.trimmed.Qfilter.fastq\n",
      "Approx 5% complete for C0RPF2aux_S4_R1_001.trimmed.Qfilter.fastq\n",
      "Approx 10% complete for C0RPF2aux_S4_R1_001.trimmed.Qfilter.fastq\n",
      "Approx 15% complete for C0RPF2aux_S4_R1_001.trimmed.Qfilter.fastq\n",
      "Approx 20% complete for C0RPF2aux_S4_R1_001.trimmed.Qfilter.fastq\n",
      "Approx 25% complete for C0RPF2aux_S4_R1_001.trimmed.Qfilter.fastq\n",
      "Approx 30% complete for C0RPF2aux_S4_R1_001.trimmed.Qfilter.fastq\n",
      "Approx 35% complete for C0RPF2aux_S4_R1_001.trimmed.Qfilter.fastq\n",
      "Approx 40% complete for C0RPF2aux_S4_R1_001.trimmed.Qfilter.fastq\n",
      "Approx 45% complete for C0RPF2aux_S4_R1_001.trimmed.Qfilter.fastq\n",
      "Approx 50% complete for C0RPF2aux_S4_R1_001.trimmed.Qfilter.fastq\n",
      "Approx 55% complete for C0RPF2aux_S4_R1_001.trimmed.Qfilter.fastq\n",
      "Approx 60% complete for C0RPF2aux_S4_R1_001.trimmed.Qfilter.fastq\n",
      "Approx 65% complete for C0RPF2aux_S4_R1_001.trimmed.Qfilter.fastq\n",
      "Approx 70% complete for C0RPF2aux_S4_R1_001.trimmed.Qfilter.fastq\n",
      "Approx 75% complete for C0RPF2aux_S4_R1_001.trimmed.Qfilter.fastq\n",
      "Approx 80% complete for C0RPF2aux_S4_R1_001.trimmed.Qfilter.fastq\n",
      "Approx 85% complete for C0RPF2aux_S4_R1_001.trimmed.Qfilter.fastq\n",
      "Approx 90% complete for C0RPF2aux_S4_R1_001.trimmed.Qfilter.fastq\n",
      "Approx 95% complete for C0RPF2aux_S4_R1_001.trimmed.Qfilter.fastq\n",
      "Analysis complete for C0RPF2aux_S4_R1_001.trimmed.Qfilter.fastq\n",
      "null\n",
      "Started analysis of C0RPF3aux_S9_R1_001.trimmed.Qfilter.fastq\n",
      "Approx 5% complete for C0RPF3aux_S9_R1_001.trimmed.Qfilter.fastq\n",
      "Approx 10% complete for C0RPF3aux_S9_R1_001.trimmed.Qfilter.fastq\n",
      "Approx 15% complete for C0RPF3aux_S9_R1_001.trimmed.Qfilter.fastq\n",
      "Approx 20% complete for C0RPF3aux_S9_R1_001.trimmed.Qfilter.fastq\n",
      "Approx 25% complete for C0RPF3aux_S9_R1_001.trimmed.Qfilter.fastq\n",
      "Approx 30% complete for C0RPF3aux_S9_R1_001.trimmed.Qfilter.fastq\n",
      "Approx 35% complete for C0RPF3aux_S9_R1_001.trimmed.Qfilter.fastq\n",
      "Approx 40% complete for C0RPF3aux_S9_R1_001.trimmed.Qfilter.fastq\n",
      "Approx 45% complete for C0RPF3aux_S9_R1_001.trimmed.Qfilter.fastq\n",
      "Approx 50% complete for C0RPF3aux_S9_R1_001.trimmed.Qfilter.fastq\n",
      "Approx 55% complete for C0RPF3aux_S9_R1_001.trimmed.Qfilter.fastq\n",
      "Approx 60% complete for C0RPF3aux_S9_R1_001.trimmed.Qfilter.fastq\n",
      "Approx 65% complete for C0RPF3aux_S9_R1_001.trimmed.Qfilter.fastq\n",
      "Approx 70% complete for C0RPF3aux_S9_R1_001.trimmed.Qfilter.fastq\n",
      "Approx 75% complete for C0RPF3aux_S9_R1_001.trimmed.Qfilter.fastq\n",
      "Approx 80% complete for C0RPF3aux_S9_R1_001.trimmed.Qfilter.fastq\n",
      "Approx 85% complete for C0RPF3aux_S9_R1_001.trimmed.Qfilter.fastq\n",
      "Approx 90% complete for C0RPF3aux_S9_R1_001.trimmed.Qfilter.fastq\n",
      "Approx 95% complete for C0RPF3aux_S9_R1_001.trimmed.Qfilter.fastq\n",
      "Analysis complete for C0RPF3aux_S9_R1_001.trimmed.Qfilter.fastq\n"
     ]
    }
   ],
   "source": [
    "# quality check\n",
    "!mkdir {cwd}/after_trim/\n",
    "for read in reads:\n",
    "    !fastqc {cwd}/quality_filtered/{read}.trimmed.Qfilter.fastq -o {cwd}/after_trim/ -a {cwd}/adapter.txt"
   ]
  },
  {
   "cell_type": "code",
   "execution_count": null,
   "metadata": {},
   "outputs": [
    {
     "name": "stdout",
     "output_type": "stream",
     "text": [
      "Setting the index via positional argument will be deprecated in a future release. Please use -x option instead.\n",
      "# reads processed: 546253\n",
      "# reads with at least one alignment: 7321 (1.34%)\n",
      "# reads that failed to align: 538932 (98.66%)\n",
      "Reported 12709 alignments\n",
      "Setting the index via positional argument will be deprecated in a future release. Please use -x option instead.\n",
      "# reads processed: 3181526\n",
      "# reads with at least one alignment: 71327 (2.24%)\n",
      "# reads that failed to align: 3110199 (97.76%)\n",
      "Reported 133214 alignments\n",
      "Setting the index via positional argument will be deprecated in a future release. Please use -x option instead.\n",
      "# reads processed: 505132\n",
      "# reads with at least one alignment: 7744 (1.53%)\n",
      "# reads that failed to align: 497388 (98.47%)\n",
      "Reported 13986 alignments\n"
     ]
    }
   ],
   "source": [
    "!mkdir -p  {cwd}/aligned\n",
    "for read in reads:\n",
    "    !bowtie -n 2 -y -a --norc --best --strata -S -p 16 -l 25 --un={cwd}/aligned/noncontam_{read}.fastq {cwd}/bowtie_index/bowtie_index -q {cwd}/quality_filtered/{read}.trimmed.Qfilter.fastq {cwd}/aligned/{read}.alin"
   ]
  },
  {
   "cell_type": "code",
   "execution_count": null,
   "metadata": {},
   "outputs": [
    {
     "name": "stdout",
     "output_type": "stream",
     "text": [
      "\t/home/zzz0054/miniconda3/envs/ribo4/bin/STAR-avx2 --runThreadN 8 --outFilterType Normal --outWigType wiggle --outWigStrand Stranded --outWigNorm RPM --alignEndsType EndToEnd --outFilterMismatchNmax 1 --outFilterMultimapNmax 1 --genomeDir /home/zzz0054/chen_data/STAR_genome_index/ --readFilesIn /home/zzz0054/chen_data/aligned/noncontam_C0RPF1aux_S3_R1_001.fastq --outFileNamePrefix /home/zzz0054/chen_data/star_out/C0RPF1aux_S3_R1_001/ --outSAMtype BAM SortedByCoordinate --quantMode TranscriptomeSAM GeneCounts --outSAMattributes All\n",
      "\tSTAR version: 2.7.11b   compiled: 2024-03-19T08:38:59+0000 :/opt/conda/conda-bld/star_1710837244939/work/source\n",
      "Jul 22 10:30:20 ..... started STAR run\n",
      "Jul 22 10:30:20 ..... loading genome\n",
      "Jul 22 10:30:23 ..... started mapping\n",
      "Jul 22 10:32:26 ..... finished mapping\n",
      "Jul 22 10:32:27 ..... started sorting BAM\n",
      "Jul 22 10:32:27 ..... started wiggle output\n",
      "Jul 22 10:32:31 ..... finished successfully\n",
      "\t/home/zzz0054/miniconda3/envs/ribo4/bin/STAR-avx2 --runThreadN 8 --outFilterType Normal --outWigType wiggle --outWigStrand Stranded --outWigNorm RPM --alignEndsType EndToEnd --outFilterMismatchNmax 1 --outFilterMultimapNmax 1 --genomeDir /home/zzz0054/chen_data/STAR_genome_index/ --readFilesIn /home/zzz0054/chen_data/aligned/noncontam_C0RPF2aux_S4_R1_001.fastq --outFileNamePrefix /home/zzz0054/chen_data/star_out/C0RPF2aux_S4_R1_001/ --outSAMtype BAM SortedByCoordinate --quantMode TranscriptomeSAM GeneCounts --outSAMattributes All\n",
      "\tSTAR version: 2.7.11b   compiled: 2024-03-19T08:38:59+0000 :/opt/conda/conda-bld/star_1710837244939/work/source\n",
      "Jul 22 10:32:32 ..... started STAR run\n",
      "Jul 22 10:32:32 ..... loading genome\n",
      "Jul 22 10:32:34 ..... started mapping\n",
      "Jul 22 10:37:25 ..... finished mapping\n",
      "Jul 22 10:37:26 ..... started sorting BAM\n",
      "Jul 22 10:37:26 ..... started wiggle output\n",
      "Jul 22 10:37:30 ..... finished successfully\n",
      "\t/home/zzz0054/miniconda3/envs/ribo4/bin/STAR-avx2 --runThreadN 8 --outFilterType Normal --outWigType wiggle --outWigStrand Stranded --outWigNorm RPM --alignEndsType EndToEnd --outFilterMismatchNmax 1 --outFilterMultimapNmax 1 --genomeDir /home/zzz0054/chen_data/STAR_genome_index/ --readFilesIn /home/zzz0054/chen_data/aligned/noncontam_C0RPF3aux_S9_R1_001.fastq --outFileNamePrefix /home/zzz0054/chen_data/star_out/C0RPF3aux_S9_R1_001/ --outSAMtype BAM SortedByCoordinate --quantMode TranscriptomeSAM GeneCounts --outSAMattributes All\n",
      "\tSTAR version: 2.7.11b   compiled: 2024-03-19T08:38:59+0000 :/opt/conda/conda-bld/star_1710837244939/work/source\n",
      "Jul 22 10:37:31 ..... started STAR run\n",
      "Jul 22 10:37:31 ..... loading genome\n",
      "Jul 22 10:37:33 ..... started mapping\n",
      "Jul 22 10:39:40 ..... finished mapping\n",
      "Jul 22 10:39:41 ..... started sorting BAM\n",
      "Jul 22 10:39:41 ..... started wiggle output\n",
      "Jul 22 10:39:45 ..... finished successfully\n"
     ]
    }
   ],
   "source": [
    "for read in reads:\n",
    "    !STAR --runThreadN 8 --outFilterType Normal --outWigType wiggle --outWigStrand Stranded --outWigNorm RPM --alignEndsType EndToEnd --outFilterMismatchNmax 1 --outFilterMultimapNmax 1 --genomeDir {cwd}/STAR_genome_index/ --readFilesIn {cwd}/aligned/noncontam_{read}.fastq --outFileNamePrefix  {cwd}/star_out/{read}/ --outSAMtype BAM SortedByCoordinate --quantMode TranscriptomeSAM GeneCounts --outSAMattributes All"
   ]
  },
  {
   "cell_type": "code",
   "execution_count": null,
   "metadata": {},
   "outputs": [],
   "source": [
    "for read in reads:\n",
    "    !samtools sort -T {cwd}/star_out/{read}/Aligned.toTranscriptome.out.sorted -o {cwd}/star_out/{read}/Aligned.toTranscriptome.out.sorted.bam {cwd}/star_out/{read}/Aligned.toTranscriptome.out.bam\n",
    "    !samtools index {cwd}/star_out/{read}/Aligned.toTranscriptome.out.sorted.bam ## mapped to transcriptome\n",
    "    !samtools index {cwd}/star_out/{read}/Aligned.sortedByCoord.out.bam ## mapped to genome"
   ]
  },
  {
   "cell_type": "code",
   "execution_count": null,
   "metadata": {},
   "outputs": [
    {
     "name": "stdout",
     "output_type": "stream",
     "text": [
      "[2024-07-22 10:39:54] Create metaplot file and predict the P-site locations ...\n",
      "\tLoading transcripts.pickle ...\n",
      "No obviously periodicity are detected from bam file /home/zzz0054/chen_data/star_out/C0RPF1aux_S3_R1_001/Aligned.toTranscriptome.out.sorted.bam,\n",
      "it could be due to poor quality sequencing.\n",
      "Please check the metagene plots and try again by lowering the value of frame0_percent\n",
      "[2024-07-22 10:39:57] Complete prediction of the P-site locations\n",
      "[2024-07-22 10:40:00] Create metaplot file and predict the P-site locations ...\n",
      "\tLoading transcripts.pickle ...\n",
      "No obviously periodicity are detected from bam file /home/zzz0054/chen_data/star_out/C0RPF2aux_S4_R1_001/Aligned.toTranscriptome.out.sorted.bam,\n",
      "it could be due to poor quality sequencing.\n",
      "Please check the metagene plots and try again by lowering the value of frame0_percent\n",
      "[2024-07-22 10:40:04] Complete prediction of the P-site locations\n",
      "[2024-07-22 10:40:07] Create metaplot file and predict the P-site locations ...\n",
      "\tLoading transcripts.pickle ...\n",
      "No obviously periodicity are detected from bam file /home/zzz0054/chen_data/star_out/C0RPF3aux_S9_R1_001/Aligned.toTranscriptome.out.sorted.bam,\n",
      "it could be due to poor quality sequencing.\n",
      "Please check the metagene plots and try again by lowering the value of frame0_percent\n",
      "[2024-07-22 10:40:11] Complete prediction of the P-site locations\n"
     ]
    }
   ],
   "source": [
    "for read in reads:\n",
    "    !mkdir -p {cwd}/metaplots/{read}/\n",
    "    !metaplots -a {cwd}/ref/annot -r {cwd}/star_out/{read}/Aligned.toTranscriptome.out.sorted.bam -o {cwd}/metaplots/{read}/"
   ]
  }
 ],
 "metadata": {
  "kernelspec": {
   "display_name": "ribo4",
   "language": "python",
   "name": "python3"
  },
  "language_info": {
   "codemirror_mode": {
    "name": "ipython",
    "version": 3
   },
   "file_extension": ".py",
   "mimetype": "text/x-python",
   "name": "python",
   "nbconvert_exporter": "python",
   "pygments_lexer": "ipython3",
   "version": "3.8.17"
  }
 },
 "nbformat": 4,
 "nbformat_minor": 2
}
