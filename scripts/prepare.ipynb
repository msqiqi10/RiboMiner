{
 "cells": [
  {
   "cell_type": "code",
   "execution_count": 1,
   "metadata": {},
   "outputs": [],
   "source": [
    "cwd = \"/home/zzz0054/chen_data\""
   ]
  },
  {
   "cell_type": "code",
   "execution_count": 4,
   "metadata": {},
   "outputs": [
    {
     "name": "stdout",
     "output_type": "stream",
     "text": [
      "[2024-07-21 22:22:42] Preparing annotation files ...\n",
      "\tReading the GTF file: /home/zzz0054/chen_data/ref/Arabidopsis_thaliana.TAIR10.57.gtf .......\n",
      "\tProcess the transcripts ....\n",
      "\tSaving the transcripts.pickle\n",
      "[2024-07-21 22:23:09] The step of preparing transcript annotation has been completed.\n"
     ]
    }
   ],
   "source": [
    "!prepare_transcripts -g {cwd}/ref/Arabidopsis_thaliana.TAIR10.57.gtf -f {cwd}/ref/Arabidopsis_thaliana.TAIR10.dna.toplevel.fa -o {cwd}/ref/annot"
   ]
  },
  {
   "cell_type": "code",
   "execution_count": 6,
   "metadata": {},
   "outputs": [
    {
     "name": "stdout",
     "output_type": "stream",
     "text": [
      "Starting outputing longest trans...\n",
      "27628  transcripts will be used in the follow analysis.\n",
      "\n",
      "Finishing!\n",
      "Starting outputing all trans...\n",
      "Finishing!\n"
     ]
    }
   ],
   "source": [
    "!OutputTranscriptInfo -c {cwd}/ref/annot/transcripts_cds.txt -g {cwd}/ref/Arabidopsis_thaliana.TAIR10.57.gtf -f {cwd}/ref/annot/transcripts_sequence.fa -o {cwd}/ref/longest.transcripts.info.txt -O {cwd}/ref/all.transcripts.info.txt"
   ]
  },
  {
   "cell_type": "code",
   "execution_count": 8,
   "metadata": {},
   "outputs": [
    {
     "name": "stdout",
     "output_type": "stream",
     "text": [
      "27628  transcripts will be used in the follow analysis.\n",
      "\n",
      "AT1G33612.1 filtered--There is a ambiguous nucleotide Y in your sequence\n",
      "AT2G08986.1 filtered--There is a ambiguous nucleotide W in your sequence\n",
      "AT2G01120.1 filtered--There is a ambiguous nucleotide S in your sequence\n",
      "AT2G01120.2 filtered--There is a ambiguous nucleotide S in your sequence\n",
      "AT2G48110.1 filtered--There is a ambiguous nucleotide M in your sequence\n",
      "Warning: sequence is not divisible by 3\n",
      "Warning: sequence is not divisible by 3\n",
      "Warning: sequence is not divisible by 3\n",
      "Warning: sequence is not divisible by 3\n",
      "Warning: sequence is not divisible by 3\n",
      "Notes: There are 5 transcripts whose cds sequence cannot be divided by 3!\n",
      "Finish the step of extracting sequences!\n"
     ]
    }
   ],
   "source": [
    "!GetProteinCodingSequence -i {cwd}/ref/annot/transcripts_sequence.fa  -c {cwd}/ref/longest.transcripts.info.txt -o {cwd}/ref/ProteinCodingSeq --mode whole --table 1"
   ]
  },
  {
   "cell_type": "code",
   "execution_count": null,
   "metadata": {},
   "outputs": [],
   "source": [
    "!mkdir -p {cwd}/bowtie_index/\n",
    "!bowtie-build {cwd}/ref/Arabidopsis_thaliana.TAIR10.dna.toplevel.fa {cwd}/bowtie_index/bowtie_index"
   ]
  },
  {
   "cell_type": "code",
   "execution_count": null,
   "metadata": {},
   "outputs": [],
   "source": [
    "!STAR --runThreadN 16 \\\n",
    "--runMode genomeGenerate \\\n",
    "--genomeDir {cwd}/STAR_genome_index/ \\\n",
    "--genomeFastaFiles {cwd}/ref/Arabidopsis_thaliana.TAIR10.dna.toplevel.fa \\\n",
    "--sjdbGTFfile {cwd}/ref/Arabidopsis_thaliana.TAIR10.57.gtf \\\n",
    "--sjdbOverhang 100"
   ]
  }
 ],
 "metadata": {
  "kernelspec": {
   "display_name": "ribo4",
   "language": "python",
   "name": "python3"
  },
  "language_info": {
   "codemirror_mode": {
    "name": "ipython",
    "version": 3
   },
   "file_extension": ".py",
   "mimetype": "text/x-python",
   "name": "python",
   "nbconvert_exporter": "python",
   "pygments_lexer": "ipython3",
   "version": "3.8.17"
  }
 },
 "nbformat": 4,
 "nbformat_minor": 2
}
