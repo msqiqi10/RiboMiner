{
 "cells": [
  {
   "cell_type": "code",
   "execution_count": 2,
   "metadata": {},
   "outputs": [],
   "source": [
    "cwd = \"/home/zzz0054/chen_data\"\n",
    "reads = [\"C0TR-1_S1_R1_001\", \"C0TR1aux_S1_R1_001\"]\n",
    "subF = \"Alonso\""
   ]
  },
  {
   "cell_type": "code",
   "execution_count": 2,
   "metadata": {},
   "outputs": [],
   "source": [
    "!mkdir -p {cwd}/trimmed_out/\n",
    "!mkdir -p {cwd}/before_trim/\n",
    "!mkdir -p {cwd}/quality_filtered\n",
    "!mkdir -p {cwd}/after_trim/\n",
    "!mkdir -p  {cwd}/aligned"
   ]
  },
  {
   "cell_type": "code",
   "execution_count": 12,
   "metadata": {},
   "outputs": [
    {
     "name": "stdout",
     "output_type": "stream",
     "text": [
      "Done           00:01:13     7,796,718 reads @   9.4 µs/read;   6.37 M reads/minute\n",
      "Done           00:07:52    49,092,029 reads @   9.6 µs/read;   6.24 M reads/minute\n"
     ]
    }
   ],
   "source": [
    "!mkdir -p {cwd}/trimmed_out/\n",
    "for read in reads:\n",
    "    # -a AGATCGGAAGAGCACACGTCTGAACTCCAGTCA -e 0.2 -m 80 -M 180\n",
    "    !cutadapt -a CTGTAGGCACCATCAAT -e 0.2 -m 15 -M 60 -o {cwd}/trimmed_out/{read}.trimmed.fastq {cwd}/{subF}/{read}.fastq > {cwd}/trimmed_out/{read}_trimmed.log"
   ]
  },
  {
   "cell_type": "code",
   "execution_count": 13,
   "metadata": {},
   "outputs": [
    {
     "name": "stdout",
     "output_type": "stream",
     "text": [
      "mkdir: cannot create directory ‘/home/zzz0054/chen_data/before_trim/’: File exists\n",
      "null\n",
      "Started analysis of C0TR-1_S1_R1_001.fastq\n",
      "Approx 5% complete for C0TR-1_S1_R1_001.fastq\n",
      "Approx 10% complete for C0TR-1_S1_R1_001.fastq\n",
      "Approx 15% complete for C0TR-1_S1_R1_001.fastq\n",
      "Approx 20% complete for C0TR-1_S1_R1_001.fastq\n",
      "Approx 25% complete for C0TR-1_S1_R1_001.fastq\n",
      "Approx 30% complete for C0TR-1_S1_R1_001.fastq\n",
      "Approx 35% complete for C0TR-1_S1_R1_001.fastq\n",
      "Approx 40% complete for C0TR-1_S1_R1_001.fastq\n",
      "Approx 45% complete for C0TR-1_S1_R1_001.fastq\n",
      "Approx 50% complete for C0TR-1_S1_R1_001.fastq\n",
      "Approx 55% complete for C0TR-1_S1_R1_001.fastq\n",
      "Approx 60% complete for C0TR-1_S1_R1_001.fastq\n",
      "Approx 65% complete for C0TR-1_S1_R1_001.fastq\n",
      "Approx 70% complete for C0TR-1_S1_R1_001.fastq\n",
      "Approx 75% complete for C0TR-1_S1_R1_001.fastq\n",
      "Approx 80% complete for C0TR-1_S1_R1_001.fastq\n",
      "Approx 85% complete for C0TR-1_S1_R1_001.fastq\n",
      "Approx 90% complete for C0TR-1_S1_R1_001.fastq\n",
      "Approx 95% complete for C0TR-1_S1_R1_001.fastq\n",
      "Analysis complete for C0TR-1_S1_R1_001.fastq\n",
      "null\n",
      "Started analysis of C0TR1aux_S1_R1_001.fastq\n",
      "Approx 5% complete for C0TR1aux_S1_R1_001.fastq\n",
      "Approx 10% complete for C0TR1aux_S1_R1_001.fastq\n",
      "Approx 15% complete for C0TR1aux_S1_R1_001.fastq\n",
      "Approx 20% complete for C0TR1aux_S1_R1_001.fastq\n",
      "Approx 25% complete for C0TR1aux_S1_R1_001.fastq\n",
      "Approx 30% complete for C0TR1aux_S1_R1_001.fastq\n",
      "Approx 35% complete for C0TR1aux_S1_R1_001.fastq\n",
      "Approx 40% complete for C0TR1aux_S1_R1_001.fastq\n",
      "Approx 45% complete for C0TR1aux_S1_R1_001.fastq\n",
      "Approx 50% complete for C0TR1aux_S1_R1_001.fastq\n",
      "Approx 55% complete for C0TR1aux_S1_R1_001.fastq\n",
      "Approx 60% complete for C0TR1aux_S1_R1_001.fastq\n",
      "Approx 65% complete for C0TR1aux_S1_R1_001.fastq\n",
      "Approx 70% complete for C0TR1aux_S1_R1_001.fastq\n",
      "Approx 75% complete for C0TR1aux_S1_R1_001.fastq\n",
      "Approx 80% complete for C0TR1aux_S1_R1_001.fastq\n",
      "Approx 85% complete for C0TR1aux_S1_R1_001.fastq\n",
      "Approx 90% complete for C0TR1aux_S1_R1_001.fastq\n",
      "Approx 95% complete for C0TR1aux_S1_R1_001.fastq\n",
      "Approx 100% complete for C0TR1aux_S1_R1_001.fastq\n",
      "Analysis complete for C0TR1aux_S1_R1_001.fastq\n"
     ]
    }
   ],
   "source": [
    "# quality check\n",
    "!mkdir {cwd}/before_trim/\n",
    "for read in reads:\n",
    "    !fastqc {cwd}/{subF}/{read}.fastq -o {cwd}/before_trim/ -a {cwd}/adapter.txt"
   ]
  },
  {
   "cell_type": "code",
   "execution_count": 14,
   "metadata": {},
   "outputs": [],
   "source": [
    "!mkdir -p {cwd}/quality_filtered\n",
    "for read in reads:\n",
    "    !fastq_quality_filter -Q33 -v -q 25 -p 75 -i {cwd}/trimmed_out/{read}.trimmed.fastq -o {cwd}/quality_filtered/{read}.trimmed.Qfilter.fastq > {cwd}/quality_filtered/{read}.Qfilter.log"
   ]
  },
  {
   "cell_type": "code",
   "execution_count": 15,
   "metadata": {},
   "outputs": [
    {
     "name": "stdout",
     "output_type": "stream",
     "text": [
      "mkdir: cannot create directory ‘/home/zzz0054/chen_data/after_trim/’: File exists\n",
      "null\n",
      "Started analysis of C0TR-1_S1_R1_001.trimmed.Qfilter.fastq\n",
      "Approx 5% complete for C0TR-1_S1_R1_001.trimmed.Qfilter.fastq\n",
      "Approx 10% complete for C0TR-1_S1_R1_001.trimmed.Qfilter.fastq\n",
      "Approx 15% complete for C0TR-1_S1_R1_001.trimmed.Qfilter.fastq\n",
      "Approx 20% complete for C0TR-1_S1_R1_001.trimmed.Qfilter.fastq\n",
      "Approx 25% complete for C0TR-1_S1_R1_001.trimmed.Qfilter.fastq\n",
      "Approx 30% complete for C0TR-1_S1_R1_001.trimmed.Qfilter.fastq\n",
      "Approx 35% complete for C0TR-1_S1_R1_001.trimmed.Qfilter.fastq\n",
      "Approx 40% complete for C0TR-1_S1_R1_001.trimmed.Qfilter.fastq\n",
      "Approx 45% complete for C0TR-1_S1_R1_001.trimmed.Qfilter.fastq\n",
      "Approx 50% complete for C0TR-1_S1_R1_001.trimmed.Qfilter.fastq\n",
      "Approx 55% complete for C0TR-1_S1_R1_001.trimmed.Qfilter.fastq\n",
      "Approx 60% complete for C0TR-1_S1_R1_001.trimmed.Qfilter.fastq\n",
      "Approx 65% complete for C0TR-1_S1_R1_001.trimmed.Qfilter.fastq\n",
      "Approx 70% complete for C0TR-1_S1_R1_001.trimmed.Qfilter.fastq\n",
      "Approx 75% complete for C0TR-1_S1_R1_001.trimmed.Qfilter.fastq\n",
      "Approx 80% complete for C0TR-1_S1_R1_001.trimmed.Qfilter.fastq\n",
      "Approx 85% complete for C0TR-1_S1_R1_001.trimmed.Qfilter.fastq\n",
      "Approx 90% complete for C0TR-1_S1_R1_001.trimmed.Qfilter.fastq\n",
      "Approx 95% complete for C0TR-1_S1_R1_001.trimmed.Qfilter.fastq\n",
      "Analysis complete for C0TR-1_S1_R1_001.trimmed.Qfilter.fastq\n",
      "null\n",
      "Started analysis of C0TR1aux_S1_R1_001.trimmed.Qfilter.fastq\n",
      "Approx 5% complete for C0TR1aux_S1_R1_001.trimmed.Qfilter.fastq\n",
      "Approx 10% complete for C0TR1aux_S1_R1_001.trimmed.Qfilter.fastq\n",
      "Approx 15% complete for C0TR1aux_S1_R1_001.trimmed.Qfilter.fastq\n",
      "Approx 20% complete for C0TR1aux_S1_R1_001.trimmed.Qfilter.fastq\n",
      "Approx 25% complete for C0TR1aux_S1_R1_001.trimmed.Qfilter.fastq\n",
      "Approx 30% complete for C0TR1aux_S1_R1_001.trimmed.Qfilter.fastq\n",
      "Approx 35% complete for C0TR1aux_S1_R1_001.trimmed.Qfilter.fastq\n",
      "Approx 40% complete for C0TR1aux_S1_R1_001.trimmed.Qfilter.fastq\n",
      "Approx 45% complete for C0TR1aux_S1_R1_001.trimmed.Qfilter.fastq\n",
      "Approx 50% complete for C0TR1aux_S1_R1_001.trimmed.Qfilter.fastq\n",
      "Approx 55% complete for C0TR1aux_S1_R1_001.trimmed.Qfilter.fastq\n",
      "Approx 60% complete for C0TR1aux_S1_R1_001.trimmed.Qfilter.fastq\n",
      "Approx 65% complete for C0TR1aux_S1_R1_001.trimmed.Qfilter.fastq\n",
      "Approx 70% complete for C0TR1aux_S1_R1_001.trimmed.Qfilter.fastq\n",
      "Approx 75% complete for C0TR1aux_S1_R1_001.trimmed.Qfilter.fastq\n",
      "Approx 80% complete for C0TR1aux_S1_R1_001.trimmed.Qfilter.fastq\n",
      "Approx 85% complete for C0TR1aux_S1_R1_001.trimmed.Qfilter.fastq\n",
      "Approx 90% complete for C0TR1aux_S1_R1_001.trimmed.Qfilter.fastq\n",
      "Approx 95% complete for C0TR1aux_S1_R1_001.trimmed.Qfilter.fastq\n",
      "Analysis complete for C0TR1aux_S1_R1_001.trimmed.Qfilter.fastq\n"
     ]
    }
   ],
   "source": [
    "# quality check\n",
    "!mkdir {cwd}/after_trim/\n",
    "for read in reads:\n",
    "    !fastqc {cwd}/quality_filtered/{read}.trimmed.Qfilter.fastq -o {cwd}/after_trim/ -a {cwd}/adapter.txt"
   ]
  },
  {
   "cell_type": "code",
   "execution_count": 17,
   "metadata": {},
   "outputs": [
    {
     "name": "stdout",
     "output_type": "stream",
     "text": [
      "Setting the index via positional argument will be deprecated in a future release. Please use -x option instead.\n",
      "# reads processed: 7507557\n",
      "# reads with at least one alignment: 1089542 (14.51%)\n",
      "# reads that failed to align: 6418015 (85.49%)\n",
      "Reported 3933710 alignments\n",
      "Setting the index via positional argument will be deprecated in a future release. Please use -x option instead.\n",
      "# reads processed: 46692636\n",
      "# reads with at least one alignment: 4689323 (10.04%)\n",
      "# reads that failed to align: 42003313 (89.96%)\n",
      "Reported 16639326 alignments\n"
     ]
    }
   ],
   "source": [
    "!mkdir -p  {cwd}/aligned\n",
    "for read in reads:\n",
    "    !bowtie --chunkmbs 200 -n 2 -y -a --norc --best --strata -S -p 16 -l 25 --un={cwd}/aligned/noncontam_{read}.fastq {cwd}/bowtie_index/bowtie_index -q {cwd}/quality_filtered/{read}.trimmed.Qfilter.fastq {cwd}/aligned/{read}.alin"
   ]
  },
  {
   "cell_type": "code",
   "execution_count": 6,
   "metadata": {},
   "outputs": [],
   "source": [
    "for read in reads:\n",
    "    !samtools view -bS {cwd}/aligned/{read}.alin> {cwd}/aligned/{read}.bam"
   ]
  },
  {
   "cell_type": "markdown",
   "metadata": {},
   "source": [
    "--runThreadN 32: Specifies the number of threads to use for parallel execution. In this case, it uses 32 threads.\n",
    "--outFilterType Normal: Sets the type of filtering to apply to the alignments. \"Normal\" means it will use the default filtering criteria.\n",
    "--outWigType wiggle: Specifies the output format for the signal coverage. \"wiggle\" generates a wiggle file for visualization.\n",
    "--outWigStrand Stranded: Indicates that the output wiggle file should be stranded, meaning it will have separate tracks for forward and reverse strands.\n",
    "--outWigNorm RPM: Sets the normalization method for the wiggle output. \"RPM\" means reads per million, which normalizes the signal based on the total number of mapped reads.\n",
    "--alignEndsType EndToEnd: Specifies the alignment type. \"EndToEnd\" means the entire read must align from one end to the other without any clipping.\n",
    "--outFilterMismatchNmax 1: Sets the maximum number of mismatches allowed per read. In this case, reads with more than 1 mismatch will be filtered out.\n",
    "--outFilterMultimapNmax 1: Sets the maximum number of alignments allowed per read. Reads that align to more than one location will be filtered out.\n",
    "--genomeDir {cwd}/STAR_genome_index/: Specifies the path to the directory containing the STAR genome index files.\n",
    "--readFilesIn {cwd}/aligned/noncontam_{read}.fastq: Specifies the input FASTQ file(s) containing the reads to be aligned. {read} is likely a placeholder for the read identifier (e.g., R1, R2).\n",
    "--outFileNamePrefix {cwd}/star_out/{read}/: Sets the prefix for the output files. The output files will be written to the star_out/{read}/ directory.\n",
    "--outSAMtype BAM SortedByCoordinate: Specifies the output format for the alignments. In this case, it generates a sorted BAM file.\n",
    "--quantMode TranscriptomeSAM GeneCounts: Enables quantification of reads per gene. It generates a transcriptome alignment file (in SAM format) and a table with gene-level read counts.\n",
    "--outSAMattributes All: Specifies the attributes to include in the output SAM/BAM file. \"All\" means it will include all available attributes."
   ]
  },
  {
   "cell_type": "code",
   "execution_count": 4,
   "metadata": {},
   "outputs": [
    {
     "name": "stdout",
     "output_type": "stream",
     "text": [
      "\t/home/zzz0054/miniconda3/envs/ribo4/bin/STAR-avx2 --genomeDir /home/zzz0054/chen_data/STAR_genome_index/ --runThreadN 64 --readFilesIn /home/zzz0054/chen_data/aligned/noncontam_C0TR-1_S1_R1_001.fastq --outFilterMultimapNmax 20 --outFilterScoreMinOverLread 0 --outFilterMatchNminOverLread 0 --outFilterMismatchNmax 2 --outFileNamePrefix /home/zzz0054/chen_data/star_out/C0TR-1_S1_R1_001/ --outSAMtype BAM SortedByCoordinate --outSAMunmapped Within --outSAMattributes Standard --quantMode TranscriptomeSAM GeneCounts\n",
      "\tSTAR version: 2.7.11b   compiled: 2024-03-19T08:38:59+0000 :/opt/conda/conda-bld/star_1710837244939/work/source\n",
      "Jul 24 08:36:01 ..... started STAR run\n",
      "Jul 24 08:36:01 ..... loading genome\n",
      "Jul 24 08:36:04 ..... started mapping\n",
      "Jul 24 08:36:37 ..... finished mapping\n",
      "Jul 24 08:36:37 ..... started sorting BAM\n",
      "Jul 24 08:36:42 ..... finished successfully\n"
     ]
    }
   ],
   "source": [
    "# for read in reads:\n",
    "for read in ['C0TR-1_S1_R1_001']:\n",
    "    !STAR --genomeDir {cwd}/STAR_genome_index/ --runThreadN 64 --readFilesIn {cwd}/aligned/noncontam_{read}.fastq --outFilterMultimapNmax 20 --outFilterScoreMinOverLread 0 --outFilterMatchNminOverLread 0 --outFilterMismatchNmax 2 --outFileNamePrefix {cwd}/star_out/{read}/ --outSAMtype BAM SortedByCoordinate --outSAMunmapped Within --outSAMattributes Standard --quantMode TranscriptomeSAM GeneCounts\n",
    "    \n",
    "    # at least"
   ]
  },
  {
   "cell_type": "code",
   "execution_count": 7,
   "metadata": {},
   "outputs": [
    {
     "name": "stdout",
     "output_type": "stream",
     "text": [
      "222679\n"
     ]
    }
   ],
   "source": [
    "!samtools view -c /home/zzz0054/chen_data/star_out/C0TR-1_S1_R1_001/Aligned.toTranscriptome.out.bam"
   ]
  },
  {
   "cell_type": "code",
   "execution_count": 10,
   "metadata": {},
   "outputs": [
    {
     "name": "stdout",
     "output_type": "stream",
     "text": [
      "\t/home/zzz0054/miniconda3/envs/ribo4/bin/STAR-avx2 --runThreadN 32 --outFilterType Normal --outWigType wiggle --outWigStrand Stranded --outWigNorm RPM --alignEndsType EndToEnd --outFilterMismatchNmax 1 --outFilterMultimapNmax 1 --genomeDir /home/zzz0054/chen_data/STAR_genome_index/ --readFilesIn /home/zzz0054/chen_data/aligned/noncontam_C0TR-1_S1_R1_001.fastq --outFileNamePrefix /home/zzz0054/chen_data/star_out/C0TR-1_S1_R1_001/ --outSAMtype BAM SortedByCoordinate --quantMode TranscriptomeSAM GeneCounts --outSAMattributes All\n",
      "\tSTAR version: 2.7.11b   compiled: 2024-03-19T08:38:59+0000 :/opt/conda/conda-bld/star_1710837244939/work/source\n",
      "Jul 22 18:39:19 ..... started STAR run\n",
      "Jul 22 18:39:19 ..... loading genome\n",
      "Jul 22 18:39:22 ..... started mapping\n",
      "Jul 22 18:39:52 ..... finished mapping\n",
      "Jul 22 18:39:52 ..... started sorting BAM\n",
      "Jul 22 18:39:52 ..... started wiggle output\n",
      "Jul 22 18:39:57 ..... finished successfully\n",
      "\t/home/zzz0054/miniconda3/envs/ribo4/bin/STAR-avx2 --runThreadN 32 --outFilterType Normal --outWigType wiggle --outWigStrand Stranded --outWigNorm RPM --alignEndsType EndToEnd --outFilterMismatchNmax 1 --outFilterMultimapNmax 1 --genomeDir /home/zzz0054/chen_data/STAR_genome_index/ --readFilesIn /home/zzz0054/chen_data/aligned/noncontam_C0TR1aux_S1_R1_001.fastq --outFileNamePrefix /home/zzz0054/chen_data/star_out/C0TR1aux_S1_R1_001/ --outSAMtype BAM SortedByCoordinate --quantMode TranscriptomeSAM GeneCounts --outSAMattributes All\n",
      "\tSTAR version: 2.7.11b   compiled: 2024-03-19T08:38:59+0000 :/opt/conda/conda-bld/star_1710837244939/work/source\n",
      "Jul 22 18:39:58 ..... started STAR run\n",
      "Jul 22 18:39:58 ..... loading genome\n",
      "Jul 22 18:40:01 ..... started mapping\n",
      "Jul 22 18:44:35 ..... finished mapping\n",
      "Jul 22 18:44:35 ..... started sorting BAM\n",
      "Jul 22 18:44:35 ..... started wiggle output\n",
      "Jul 22 18:44:47 ..... finished successfully\n"
     ]
    }
   ],
   "source": [
    "for read in reads:\n",
    "    !STAR --runThreadN 32 --outFilterType Normal --outWigType wiggle --outWigStrand Stranded --outWigNorm RPM --alignEndsType EndToEnd --outFilterMismatchNmax 1 --outFilterMultimapNmax 1 --genomeDir {cwd}/STAR_genome_index/ --readFilesIn {cwd}/aligned/noncontam_{read}.fastq --outFileNamePrefix  {cwd}/star_out/{read}/ --outSAMtype BAM SortedByCoordinate --quantMode TranscriptomeSAM GeneCounts --outSAMattributes All"
   ]
  },
  {
   "cell_type": "code",
   "execution_count": 3,
   "metadata": {},
   "outputs": [
    {
     "name": "stdout",
     "output_type": "stream",
     "text": [
      "[bam_sort_core] merging from 1 files and 1 in-memory blocks...\n"
     ]
    }
   ],
   "source": [
    "for read in reads:\n",
    "    !samtools sort -T {cwd}/star_out/{read}/Aligned.toTranscriptome.out.sorted -o {cwd}/star_out/{read}/Aligned.toTranscriptome.out.sorted.bam {cwd}/star_out/{read}/Aligned.toTranscriptome.out.bam\n",
    "    !samtools index {cwd}/star_out/{read}/Aligned.toTranscriptome.out.sorted.bam ## mapped to transcriptome\n",
    "    !samtools index {cwd}/star_out/{read}/Aligned.sortedByCoord.out.bam ## mapped to genome\n",
    "    \n",
    "    # !samtools sort -T {cwd}/aligned/{read}.bam_sort -o {cwd}/aligned/{read}.sort.bam {cwd}/aligned/{read}.bam\n",
    "    # !samtools index {cwd}/aligned/{read}.sort.bam ## mapped to transcriptome\n"
   ]
  },
  {
   "cell_type": "code",
   "execution_count": 4,
   "metadata": {},
   "outputs": [],
   "source": [
    "# !samtools merge -X {cwd}/aligned/out.bam {cwd}/aligned/{reads[0]}.sort.bam {cwd}/aligned/{reads[1]}.sort.bam\n",
    "!samtools merge -f -X {cwd}/aligned/out.bam {cwd}/star_out/{reads[0]}/Aligned.toTranscriptome.out.sorted.bam {cwd}/star_out/{reads[1]}/Aligned.toTranscriptome.out.sorted.bam"
   ]
  },
  {
   "cell_type": "code",
   "execution_count": 5,
   "metadata": {},
   "outputs": [
    {
     "name": "stdout",
     "output_type": "stream",
     "text": [
      "[2024-07-23 20:26:20] Create metaplot file and predict the P-site locations ...\n",
      "\tLoading transcripts.pickle ...\n",
      "[E::idx_find_and_load] Could not retrieve index file for '/home/zzz0054/chen_data/aligned/out.bam'\n",
      "Warning:The predicted P-site location(10) for length 32 is not the highest peak(35),\t\t\t\t\t                 please confirm according metagene plots.\n",
      "Warning:The predicted P-site location(13) for length 29 is not the highest peak(4),\t\t\t\t\t                 please confirm according metagene plots.\n",
      "[2024-07-23 20:26:28] Complete prediction of the P-site locations\n"
     ]
    }
   ],
   "source": [
    "# for read in reads:\n",
    "!mkdir -p {cwd}/metaplots/{read}/\n",
    "!metaplots -a {cwd}/ref/annot -r {cwd}/aligned/out.bam -o {cwd}/metaplots/"
   ]
  }
 ],
 "metadata": {
  "kernelspec": {
   "display_name": "ribo4",
   "language": "python",
   "name": "python3"
  },
  "language_info": {
   "codemirror_mode": {
    "name": "ipython",
    "version": 3
   },
   "file_extension": ".py",
   "mimetype": "text/x-python",
   "name": "python",
   "nbconvert_exporter": "python",
   "pygments_lexer": "ipython3",
   "version": "3.8.17"
  }
 },
 "nbformat": 4,
 "nbformat_minor": 2
}
